{
 "cells": [
  {
   "cell_type": "code",
   "execution_count": null,
   "metadata": {},
   "outputs": [],
   "source": [
    "from sklearn.pipeline import FeatureUnion, Pipeline\n",
    "from sklearn.preprocessing import OneHotEncoder, StandardScaler\n",
    "from sklearn.base import BaseEstimator, TransformerMixin\n",
    "from sklearn.feature_extraction.text import TfidfVectorizer\n",
    "from nltk.corpus import stopwords\n",
    "from sklearn.impute import SimpleImputer\n",
    "import numpy as np\n",
    "from sklearn.externals import joblib\n",
    "\n",
    "\n",
    "import load_transform_pipeline"
   ]
  },
  {
   "cell_type": "markdown",
   "metadata": {},
   "source": [
    "## Text pipeline"
   ]
  },
  {
   "cell_type": "code",
   "execution_count": null,
   "metadata": {},
   "outputs": [],
   "source": [
    "text_cols = [\"name\",\"summary\",\"space\",\"description\",\"neighborhood_overview\",\"notes\",\"transit\",\"access\",\n",
    "             \"interaction\",\"house_rules\",\"host_about\"]\n",
    "\n",
    "stopwords_en = stopwords.words('english')\n",
    "textVectSettings = {\n",
    "    'stop_words': stopwords_en,\n",
    "    'max_df': 0.95,\n",
    "    'min_df': .05,\n",
    "    'ngram_range': (1,2),\n",
    "    'max_features': 300\n",
    "}\n",
    "\n",
    "#Pasos para el pipeline Textos\n",
    "text_pipeline = Pipeline(steps = [\n",
    "    ( 'text_selector', load_transform_pipeline.FeatureSelector(text_cols) ),\n",
    "    ( 'text_transformer', load_transform_pipeline.TextTransformer() ),\n",
    "    ( 'text_vectorize',  load_transform_pipeline.custom_Tfidf(textVectSettings, {'fitSample':1}))\n",
    "] )"
   ]
  },
  {
   "cell_type": "markdown",
   "metadata": {},
   "source": [
    "## Dummy explotable pipeline"
   ]
  },
  {
   "cell_type": "code",
   "execution_count": null,
   "metadata": {},
   "outputs": [],
   "source": [
    "dummy_explotable_cols = [\"host_verifications\"]\n",
    "\n",
    "dummy_explotable_pipeline = Pipeline(steps = [\n",
    "    ('dummy_selector', load_transform_pipeline.FeatureSelector(dummy_explotable_cols)),\n",
    "    ('dummy_transformer', load_transform_pipeline.Dummy_explotable_transformer()),\n",
    "    ('dummy_transformer2', load_transform_pipeline.Dummy_explotable_transformer_2()),\n",
    "    ( 'std_scaler', load_transform_pipeline.StandardScaler() )\n",
    "])"
   ]
  },
  {
   "cell_type": "markdown",
   "metadata": {},
   "source": [
    "## Dummy pipeline"
   ]
  },
  {
   "cell_type": "code",
   "execution_count": null,
   "metadata": {},
   "outputs": [],
   "source": [
    "dummy_cols = [\"instant_bookable\",\"is_business_travel_ready\",\"cancellation_policy\",\n",
    "\"require_guest_phone_verification\",\n",
    "\"require_guest_profile_picture\",\"host_response_time\",\n",
    "\"host_is_superhost\",\"host_has_profile_pic\",\"host_identity_verified\",\n",
    "\"city\",\"state\",\"property_type\",\"room_type\",\"bed_type\", \"host_verifications\"];\n",
    "\n",
    "dummy_pipeline = Pipeline(steps = [\n",
    "    ('dummy_selector', load_transform_pipeline.FeatureSelector(dummy_cols)),\n",
    "    ('imputer', load_transform_pipeline.SimpleImputer(strategy='constant', fill_value='missing')),\n",
    "    ('onehot', load_transform_pipeline.OneHotEncoder(handle_unknown='ignore'))\n",
    "])"
   ]
  },
  {
   "cell_type": "markdown",
   "metadata": {},
   "source": [
    "## Numeric pipeline"
   ]
  },
  {
   "cell_type": "code",
   "execution_count": null,
   "metadata": {},
   "outputs": [],
   "source": [
    "continuos_cols = [\n",
    "    \"reviews_per_month\",\"host_response_rate\",\"host_acceptance_rate\",\n",
    "    \"review_scores_communication\",\"review_scores_location\",\"review_scores_value\",\n",
    "    \"number_of_reviews_ltm\",\"review_scores_rating\",\"review_scores_cleanliness\",\n",
    "    \"review_scores_checkin\",\"availability_30\",\"availability_60\",\"availability_90\",\"availability_365\",\n",
    "    \"review_scores_accuracy\",\"minimum_nights\",\"maximum_nights\",\n",
    "    \"calculated_host_listings_count\",\"calculated_host_listings_count_entire_homes\",\n",
    "    \"calculated_host_listings_count_private_rooms\",\"calculated_host_listings_count_shared_rooms\",\n",
    "    \"host_listings_count\",\"number_of_reviews\",\n",
    "    \"accommodates\",\"bathrooms\",\"bedrooms\",\"beds\",\"guests_included\",\n",
    "]\n",
    "\n",
    "numerical_pipeline = Pipeline( steps = [\n",
    "    ( 'num_selector', load_transform_pipeline.FeatureSelector(continuos_cols) ),\n",
    "    ( 'num_imputer', load_transform_pipeline.NumericalImputer(default_strategy = 'median') ),\n",
    "    ( 'num_transformer', load_transform_pipeline.NumericalTransformer() ),\n",
    "    ( 'std_scaler', load_transform_pipeline.StandardScaler() ) \n",
    "])"
   ]
  },
  {
   "cell_type": "code",
   "execution_count": null,
   "metadata": {},
   "outputs": [],
   "source": [
    "full_pipeline = FeatureUnion(\n",
    "    transformer_list = [ \n",
    "        ('numerical_pipeline', numerical_pipeline ),\n",
    "        ('dummy_pipeline', dummy_pipeline ),\n",
    "        ('text_pipeline', text_pipeline ),\n",
    "        ('dummy_explotable', dummy_explotable_pipeline)\n",
    "    ],\n",
    "    n_jobs=-1\n",
    ")\n",
    "\n",
    "filename = '../models/transformDataPipeline__not_fitted.pkl'\n",
    "\n",
    "import pickle\n",
    "pickle.dump(full_pipeline, open(filename, 'wb'))\n",
    "# joblib.dump()"
   ]
  }
 ],
 "metadata": {
  "kernelspec": {
   "display_name": "Python 3",
   "language": "python",
   "name": "python3"
  },
  "language_info": {
   "codemirror_mode": {
    "name": "ipython",
    "version": 3
   },
   "file_extension": ".py",
   "mimetype": "text/x-python",
   "name": "python",
   "nbconvert_exporter": "python",
   "pygments_lexer": "ipython3",
   "version": "3.7.1"
  }
 },
 "nbformat": 4,
 "nbformat_minor": 2
}
