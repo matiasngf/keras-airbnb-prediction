{
 "cells": [
  {
   "cell_type": "markdown",
   "metadata": {},
   "source": [
    "# AirBNB Price Scraper"
   ]
  },
  {
   "cell_type": "markdown",
   "metadata": {},
   "source": [
    "Esta notebook es para ir a airbnb a chekear los precios de los alquileres, porque algunos no eran correctos."
   ]
  },
  {
   "cell_type": "markdown",
   "metadata": {},
   "source": [
    "## Librerias"
   ]
  },
  {
   "cell_type": "code",
   "execution_count": null,
   "metadata": {},
   "outputs": [],
   "source": [
    "import pandas as pd\n",
    "import numpy as np\n",
    "import requests\n",
    "from IPython.display import HTML, display\n",
    "from bs4 import BeautifulSoup\n",
    "from bs4 import Comment\n",
    "import json\n",
    "import html\n",
    "import re\n",
    "import urllib.parse\n",
    "from datetime import datetime\n",
    "import threading\n",
    "lock = threading.RLock()\n",
    "from os import walk"
   ]
  },
  {
   "cell_type": "markdown",
   "metadata": {},
   "source": [
    "## Leemos datasets originales"
   ]
  },
  {
   "cell_type": "code",
   "execution_count": null,
   "metadata": {},
   "outputs": [],
   "source": [
    "datasets_names = []\n",
    "path_df = '../datasets/original_files/'\n",
    "for (dirpath, dirnames, filenames) in walk(path_df):\n",
    "    datasets_names.extend(filenames)\n",
    "    break\n",
    "dataFrame = False\n",
    "first = True\n",
    "for name in datasets_names:\n",
    "    if(first):\n",
    "        first = False\n",
    "        dataFrame = pd.read_csv(path_df+name, compression='gzip')\n",
    "        dataFrame.set_index('id', drop=False, inplace=True)\n",
    "        print('adding', len(dataFrame), 'rows')\n",
    "    else:\n",
    "        _tmpDf = pd.read_csv(path_df+name, compression='gzip')\n",
    "        _tmpDf.set_index('id', drop=False, inplace=True)\n",
    "        print('adding', len(_tmpDf), 'rows')\n",
    "        dataFrame = pd.concat([dataFrame, _tmpDf])\n",
    "        del _tmpDf\n",
    "dataFrame.loc[:,  'price'] = dataFrame.price.apply(lambda x: x[1:-3].replace(',', '')).astype(int)\n",
    "print('total rows:', len(dataFrame))\n",
    "dataFrame.head()"
   ]
  },
  {
   "cell_type": "markdown",
   "metadata": {},
   "source": [
    "## Elegimos el estado a scrapear de los datasets\n",
    "modificar el valor de state acorde el estado que quieras scrapear\n",
    "\n",
    "nota: hicimos esto así para dividir el trabajo y evitar que nos baneen"
   ]
  },
  {
   "cell_type": "code",
   "execution_count": null,
   "metadata": {},
   "outputs": [],
   "source": [
    "state = 'NY'\n",
    "targets_df = dataFrame[dataFrame.state == state]\n",
    "targets = targets_df.index"
   ]
  },
  {
   "cell_type": "code",
   "execution_count": null,
   "metadata": {},
   "outputs": [],
   "source": [
    "targets"
   ]
  },
  {
   "cell_type": "code",
   "execution_count": null,
   "metadata": {
    "scrolled": false
   },
   "outputs": [],
   "source": [
    "headersChrome = {\n",
    "    'User-Agent': 'Mozilla/5.0 (Windows NT 10.0; Win64; x64) AppleWebKit/537.36 (KHTML, like Gecko) Chrome/60.0.3112.113 Safari/537.36'\n",
    "}\n",
    "\n",
    "def get_price(id):\n",
    "    url = 'https://www.airbnb.com.ar/api/v2/pdp_listing_booking_details?_format=for_web_dateless&listing_id='+str(id)+'&currency=USD&guests=1&key=d306zoyjsyarp7ifhu67rjxn52tv0t20&number_of_adults=1'\n",
    "    response = requests.get(\n",
    "        url,\n",
    "        headers=headersChrome\n",
    "    )\n",
    "    print()\n",
    "    data = json.loads(response.text)\n",
    "    if(data['pdp_listing_booking_details'][0]['p3_display_rate']['currency'] == 'USD'):\n",
    "        return int(data['pdp_listing_booking_details'][0]['p3_display_rate']['amount'])\n",
    "    else:\n",
    "        return None"
   ]
  },
  {
   "cell_type": "markdown",
   "metadata": {},
   "source": [
    "## Scrapea y guarda cada 20 items scrapeados"
   ]
  },
  {
   "cell_type": "code",
   "execution_count": null,
   "metadata": {
    "scrolled": true
   },
   "outputs": [],
   "source": [
    "import pickle\n",
    "real_prices = {}\n",
    "import time\n",
    "\n",
    "errors = 0\n",
    "current = 0\n",
    "\n",
    "for id in targets:\n",
    "    current += 1\n",
    "    if(errors == 25):\n",
    "        time.sleep(60 * 60)\n",
    "        errors = 0\n",
    "    try:\n",
    "        price = get_price(id)\n",
    "        real_prices[id] = {\n",
    "            'price': price,\n",
    "            'time': time.time()\n",
    "        }\n",
    "        if current % 20 == 0:\n",
    "            pickle.dump( real_prices, open( \"../datasets/\"+state+\"_realPrices.pkl\", \"wb\" ) )\n",
    "        print('DONE', id)\n",
    "        errors = 0\n",
    "    except:\n",
    "        errors += 1\n",
    "        real_prices[id] = {\n",
    "            'price': None,\n",
    "            'time': time.time()\n",
    "        }\n",
    "        print('ERROR', id)\n",
    "        \n",
    "pickle.dump( real_prices, open( \"../datasets/\"+state+\"_realPrices.pkl\", \"wb\" ) )"
   ]
  }
 ],
 "metadata": {
  "kernelspec": {
   "display_name": "Python 3",
   "language": "python",
   "name": "python3"
  },
  "language_info": {
   "codemirror_mode": {
    "name": "ipython",
    "version": 3
   },
   "file_extension": ".py",
   "mimetype": "text/x-python",
   "name": "python",
   "nbconvert_exporter": "python",
   "pygments_lexer": "ipython3",
   "version": "3.7.5"
  }
 },
 "nbformat": 4,
 "nbformat_minor": 2
}
