{
 "cells": [
  {
   "cell_type": "markdown",
   "metadata": {},
   "source": [
    "Esta notebook es para ir a airbnb a chekear los precios de los alquileres, porque algunos no eran correctos."
   ]
  },
  {
   "cell_type": "code",
   "execution_count": 2,
   "metadata": {},
   "outputs": [],
   "source": [
    "import pandas as pd\n",
    "import numpy as np\n",
    "import requests\n",
    "from IPython.display import HTML, display\n",
    "from bs4 import BeautifulSoup\n",
    "from bs4 import Comment\n",
    "import json\n",
    "import html\n",
    "import re\n",
    "import urllib.parse\n",
    "from datetime import datetime\n",
    "import threading\n",
    "lock = threading.RLock()\n",
    "from os import walk"
   ]
  },
  {
   "cell_type": "code",
   "execution_count": 3,
   "metadata": {},
   "outputs": [],
   "source": [
    "url_proxy = 'https://free-proxy-list.net/anonymous-proxy.html'\n",
    "response_pxy = requests.get(url_proxy)\n",
    "pxySoup = BeautifulSoup(response_pxy.text, 'html.parser')\n",
    "rowsPxy = []\n",
    "headPxy = []\n",
    "for tablePart in pxySoup.find_all(attrs={'id':'proxylisttable'})[0].find_all(True, recursive=False):\n",
    "    if(tablePart.name == 'thead'):\n",
    "        for row in tablePart.find_all(True, recursive=False):\n",
    "            headPxy = [tr.text for tr in row]\n",
    "    if(tablePart.name == 'tbody'):\n",
    "        for row in tablePart.find_all(True, recursive=False):\n",
    "            rowsPxy.append([tr.text for tr in row])\n",
    "\n",
    "proxiesDf = pd.DataFrame(data=rowsPxy, columns=headPxy)\n",
    "proxiesDf = proxiesDf[(proxiesDf['Anonymity']=='elite proxy')].sort_values(by='Https', ascending=False)\n",
    "proxiesDf.head()\n",
    "\n",
    "\n",
    "headersChrome = {\n",
    "    'User-Agent': 'Mozilla/5.0 (Windows NT 10.0; Win64; x64) AppleWebKit/537.36 (KHTML, like Gecko) Chrome/60.0.3112.113 Safari/537.36'\n",
    "}"
   ]
  },
  {
   "cell_type": "code",
   "execution_count": 4,
   "metadata": {},
   "outputs": [
    {
     "name": "stderr",
     "output_type": "stream",
     "text": [
      "C:\\ProgramData\\Anaconda3\\lib\\site-packages\\IPython\\core\\interactiveshell.py:3020: DtypeWarning: Columns (61,62) have mixed types. Specify dtype option on import or set low_memory=False.\n",
      "  interactivity=interactivity, compiler=compiler, result=result)\n"
     ]
    },
    {
     "name": "stdout",
     "output_type": "stream",
     "text": [
      "adding 11668 rows\n",
      "adding 3799 rows\n",
      "adding 4868 rows\n",
      "adding 38481 rows\n",
      "adding 7211 rows\n"
     ]
    },
    {
     "name": "stderr",
     "output_type": "stream",
     "text": [
      "C:\\ProgramData\\Anaconda3\\lib\\site-packages\\IPython\\core\\interactiveshell.py:3020: DtypeWarning: Columns (61,62,94) have mixed types. Specify dtype option on import or set low_memory=False.\n",
      "  interactivity=interactivity, compiler=compiler, result=result)\n"
     ]
    },
    {
     "name": "stdout",
     "output_type": "stream",
     "text": [
      "adding 50796 rows\n"
     ]
    },
    {
     "name": "stderr",
     "output_type": "stream",
     "text": [
      "C:\\ProgramData\\Anaconda3\\lib\\site-packages\\IPython\\core\\interactiveshell.py:3020: DtypeWarning: Columns (43,94) have mixed types. Specify dtype option on import or set low_memory=False.\n",
      "  interactivity=interactivity, compiler=compiler, result=result)\n"
     ]
    },
    {
     "name": "stdout",
     "output_type": "stream",
     "text": [
      "adding 13927 rows\n",
      "total rows: 130750\n"
     ]
    },
    {
     "data": {
      "text/html": [
       "<div>\n",
       "<style scoped>\n",
       "    .dataframe tbody tr th:only-of-type {\n",
       "        vertical-align: middle;\n",
       "    }\n",
       "\n",
       "    .dataframe tbody tr th {\n",
       "        vertical-align: top;\n",
       "    }\n",
       "\n",
       "    .dataframe thead th {\n",
       "        text-align: right;\n",
       "    }\n",
       "</style>\n",
       "<table border=\"1\" class=\"dataframe\">\n",
       "  <thead>\n",
       "    <tr style=\"text-align: right;\">\n",
       "      <th></th>\n",
       "      <th>id</th>\n",
       "      <th>listing_url</th>\n",
       "      <th>scrape_id</th>\n",
       "      <th>last_scraped</th>\n",
       "      <th>name</th>\n",
       "      <th>summary</th>\n",
       "      <th>space</th>\n",
       "      <th>description</th>\n",
       "      <th>experiences_offered</th>\n",
       "      <th>neighborhood_overview</th>\n",
       "      <th>...</th>\n",
       "      <th>instant_bookable</th>\n",
       "      <th>is_business_travel_ready</th>\n",
       "      <th>cancellation_policy</th>\n",
       "      <th>require_guest_profile_picture</th>\n",
       "      <th>require_guest_phone_verification</th>\n",
       "      <th>calculated_host_listings_count</th>\n",
       "      <th>calculated_host_listings_count_entire_homes</th>\n",
       "      <th>calculated_host_listings_count_private_rooms</th>\n",
       "      <th>calculated_host_listings_count_shared_rooms</th>\n",
       "      <th>reviews_per_month</th>\n",
       "    </tr>\n",
       "    <tr>\n",
       "      <th>id</th>\n",
       "      <th></th>\n",
       "      <th></th>\n",
       "      <th></th>\n",
       "      <th></th>\n",
       "      <th></th>\n",
       "      <th></th>\n",
       "      <th></th>\n",
       "      <th></th>\n",
       "      <th></th>\n",
       "      <th></th>\n",
       "      <th></th>\n",
       "      <th></th>\n",
       "      <th></th>\n",
       "      <th></th>\n",
       "      <th></th>\n",
       "      <th></th>\n",
       "      <th></th>\n",
       "      <th></th>\n",
       "      <th></th>\n",
       "      <th></th>\n",
       "      <th></th>\n",
       "    </tr>\n",
       "  </thead>\n",
       "  <tbody>\n",
       "    <tr>\n",
       "      <th>2265</th>\n",
       "      <td>2265</td>\n",
       "      <td>https://www.airbnb.com/rooms/2265</td>\n",
       "      <td>20200317143754</td>\n",
       "      <td>2020-03-17</td>\n",
       "      <td>Zen-East in the Heart of Austin (monthly rental)</td>\n",
       "      <td>Zen East is situated in a vibrant &amp; diverse mu...</td>\n",
       "      <td>This colorful and clean 1923 house was complet...</td>\n",
       "      <td>Zen East is situated in a vibrant &amp; diverse mu...</td>\n",
       "      <td>none</td>\n",
       "      <td>NaN</td>\n",
       "      <td>...</td>\n",
       "      <td>f</td>\n",
       "      <td>f</td>\n",
       "      <td>strict_14_with_grace_period</td>\n",
       "      <td>f</td>\n",
       "      <td>f</td>\n",
       "      <td>3</td>\n",
       "      <td>2</td>\n",
       "      <td>1</td>\n",
       "      <td>0</td>\n",
       "      <td>0.18</td>\n",
       "    </tr>\n",
       "    <tr>\n",
       "      <th>5245</th>\n",
       "      <td>5245</td>\n",
       "      <td>https://www.airbnb.com/rooms/5245</td>\n",
       "      <td>20200317143754</td>\n",
       "      <td>2020-03-17</td>\n",
       "      <td>Eco friendly, Colorful, Clean, Cozy monthly share</td>\n",
       "      <td>Situated in a vibrant &amp; diverse multicultural ...</td>\n",
       "      <td>This green, colorful, clean and cozy house was...</td>\n",
       "      <td>Situated in a vibrant &amp; diverse multicultural ...</td>\n",
       "      <td>none</td>\n",
       "      <td>NaN</td>\n",
       "      <td>...</td>\n",
       "      <td>f</td>\n",
       "      <td>f</td>\n",
       "      <td>strict_14_with_grace_period</td>\n",
       "      <td>f</td>\n",
       "      <td>f</td>\n",
       "      <td>3</td>\n",
       "      <td>2</td>\n",
       "      <td>1</td>\n",
       "      <td>0</td>\n",
       "      <td>0.07</td>\n",
       "    </tr>\n",
       "    <tr>\n",
       "      <th>5456</th>\n",
       "      <td>5456</td>\n",
       "      <td>https://www.airbnb.com/rooms/5456</td>\n",
       "      <td>20200317143754</td>\n",
       "      <td>2020-03-17</td>\n",
       "      <td>Walk to 6th, Rainey St and Convention Ctr</td>\n",
       "      <td>Great central  location for walking to Convent...</td>\n",
       "      <td>Cute Private Studio apartment located in Willo...</td>\n",
       "      <td>Great central  location for walking to Convent...</td>\n",
       "      <td>none</td>\n",
       "      <td>My neighborhood is ideally located if you want...</td>\n",
       "      <td>...</td>\n",
       "      <td>f</td>\n",
       "      <td>f</td>\n",
       "      <td>strict_14_with_grace_period</td>\n",
       "      <td>f</td>\n",
       "      <td>t</td>\n",
       "      <td>1</td>\n",
       "      <td>1</td>\n",
       "      <td>0</td>\n",
       "      <td>0</td>\n",
       "      <td>3.94</td>\n",
       "    </tr>\n",
       "    <tr>\n",
       "      <th>5769</th>\n",
       "      <td>5769</td>\n",
       "      <td>https://www.airbnb.com/rooms/5769</td>\n",
       "      <td>20200317143754</td>\n",
       "      <td>2020-03-17</td>\n",
       "      <td>NW Austin Room</td>\n",
       "      <td>NaN</td>\n",
       "      <td>Looking for a comfortable inexpensive room to ...</td>\n",
       "      <td>Looking for a comfortable inexpensive room to ...</td>\n",
       "      <td>none</td>\n",
       "      <td>Quiet neighborhood with lots of trees and good...</td>\n",
       "      <td>...</td>\n",
       "      <td>f</td>\n",
       "      <td>f</td>\n",
       "      <td>moderate</td>\n",
       "      <td>t</td>\n",
       "      <td>t</td>\n",
       "      <td>1</td>\n",
       "      <td>0</td>\n",
       "      <td>1</td>\n",
       "      <td>0</td>\n",
       "      <td>2.12</td>\n",
       "    </tr>\n",
       "    <tr>\n",
       "      <th>6413</th>\n",
       "      <td>6413</td>\n",
       "      <td>https://www.airbnb.com/rooms/6413</td>\n",
       "      <td>20200317143754</td>\n",
       "      <td>2020-03-17</td>\n",
       "      <td>Gem of a Studio near Downtown</td>\n",
       "      <td>Great studio apartment, perfect for couples or...</td>\n",
       "      <td>!!!!! SXSW info !!!!! Presently open (again!) ...</td>\n",
       "      <td>Great studio apartment, perfect for couples or...</td>\n",
       "      <td>none</td>\n",
       "      <td>Travis Heights is one of the oldest neighborho...</td>\n",
       "      <td>...</td>\n",
       "      <td>t</td>\n",
       "      <td>f</td>\n",
       "      <td>strict_14_with_grace_period</td>\n",
       "      <td>f</td>\n",
       "      <td>f</td>\n",
       "      <td>1</td>\n",
       "      <td>1</td>\n",
       "      <td>0</td>\n",
       "      <td>0</td>\n",
       "      <td>0.90</td>\n",
       "    </tr>\n",
       "  </tbody>\n",
       "</table>\n",
       "<p>5 rows × 106 columns</p>\n",
       "</div>"
      ],
      "text/plain": [
       "        id                        listing_url       scrape_id last_scraped  \\\n",
       "id                                                                           \n",
       "2265  2265  https://www.airbnb.com/rooms/2265  20200317143754   2020-03-17   \n",
       "5245  5245  https://www.airbnb.com/rooms/5245  20200317143754   2020-03-17   \n",
       "5456  5456  https://www.airbnb.com/rooms/5456  20200317143754   2020-03-17   \n",
       "5769  5769  https://www.airbnb.com/rooms/5769  20200317143754   2020-03-17   \n",
       "6413  6413  https://www.airbnb.com/rooms/6413  20200317143754   2020-03-17   \n",
       "\n",
       "                                                   name  \\\n",
       "id                                                        \n",
       "2265   Zen-East in the Heart of Austin (monthly rental)   \n",
       "5245  Eco friendly, Colorful, Clean, Cozy monthly share   \n",
       "5456          Walk to 6th, Rainey St and Convention Ctr   \n",
       "5769                                     NW Austin Room   \n",
       "6413                      Gem of a Studio near Downtown   \n",
       "\n",
       "                                                summary  \\\n",
       "id                                                        \n",
       "2265  Zen East is situated in a vibrant & diverse mu...   \n",
       "5245  Situated in a vibrant & diverse multicultural ...   \n",
       "5456  Great central  location for walking to Convent...   \n",
       "5769                                                NaN   \n",
       "6413  Great studio apartment, perfect for couples or...   \n",
       "\n",
       "                                                  space  \\\n",
       "id                                                        \n",
       "2265  This colorful and clean 1923 house was complet...   \n",
       "5245  This green, colorful, clean and cozy house was...   \n",
       "5456  Cute Private Studio apartment located in Willo...   \n",
       "5769  Looking for a comfortable inexpensive room to ...   \n",
       "6413  !!!!! SXSW info !!!!! Presently open (again!) ...   \n",
       "\n",
       "                                            description experiences_offered  \\\n",
       "id                                                                            \n",
       "2265  Zen East is situated in a vibrant & diverse mu...                none   \n",
       "5245  Situated in a vibrant & diverse multicultural ...                none   \n",
       "5456  Great central  location for walking to Convent...                none   \n",
       "5769  Looking for a comfortable inexpensive room to ...                none   \n",
       "6413  Great studio apartment, perfect for couples or...                none   \n",
       "\n",
       "                                  neighborhood_overview        ...          \\\n",
       "id                                                             ...           \n",
       "2265                                                NaN        ...           \n",
       "5245                                                NaN        ...           \n",
       "5456  My neighborhood is ideally located if you want...        ...           \n",
       "5769  Quiet neighborhood with lots of trees and good...        ...           \n",
       "6413  Travis Heights is one of the oldest neighborho...        ...           \n",
       "\n",
       "     instant_bookable is_business_travel_ready          cancellation_policy  \\\n",
       "id                                                                            \n",
       "2265                f                        f  strict_14_with_grace_period   \n",
       "5245                f                        f  strict_14_with_grace_period   \n",
       "5456                f                        f  strict_14_with_grace_period   \n",
       "5769                f                        f                     moderate   \n",
       "6413                t                        f  strict_14_with_grace_period   \n",
       "\n",
       "     require_guest_profile_picture require_guest_phone_verification  \\\n",
       "id                                                                    \n",
       "2265                             f                                f   \n",
       "5245                             f                                f   \n",
       "5456                             f                                t   \n",
       "5769                             t                                t   \n",
       "6413                             f                                f   \n",
       "\n",
       "      calculated_host_listings_count  \\\n",
       "id                                     \n",
       "2265                               3   \n",
       "5245                               3   \n",
       "5456                               1   \n",
       "5769                               1   \n",
       "6413                               1   \n",
       "\n",
       "      calculated_host_listings_count_entire_homes  \\\n",
       "id                                                  \n",
       "2265                                            2   \n",
       "5245                                            2   \n",
       "5456                                            1   \n",
       "5769                                            0   \n",
       "6413                                            1   \n",
       "\n",
       "     calculated_host_listings_count_private_rooms  \\\n",
       "id                                                  \n",
       "2265                                            1   \n",
       "5245                                            1   \n",
       "5456                                            0   \n",
       "5769                                            1   \n",
       "6413                                            0   \n",
       "\n",
       "      calculated_host_listings_count_shared_rooms  reviews_per_month  \n",
       "id                                                                    \n",
       "2265                                            0               0.18  \n",
       "5245                                            0               0.07  \n",
       "5456                                            0               3.94  \n",
       "5769                                            0               2.12  \n",
       "6413                                            0               0.90  \n",
       "\n",
       "[5 rows x 106 columns]"
      ]
     },
     "execution_count": 4,
     "metadata": {},
     "output_type": "execute_result"
    }
   ],
   "source": [
    "datasets_names = []\n",
    "path_df = '../datasets/original_files/'\n",
    "for (dirpath, dirnames, filenames) in walk(path_df):\n",
    "    datasets_names.extend(filenames)\n",
    "    break\n",
    "dataFrame = False\n",
    "first = True\n",
    "for name in datasets_names:\n",
    "    if(first):\n",
    "        first = False\n",
    "        dataFrame = pd.read_csv(path_df+name, compression='gzip')\n",
    "        dataFrame.set_index('id', drop=False, inplace=True)\n",
    "        print('adding', len(dataFrame), 'rows')\n",
    "    else:\n",
    "        _tmpDf = pd.read_csv(path_df+name, compression='gzip')\n",
    "        _tmpDf.set_index('id', drop=False, inplace=True)\n",
    "        print('adding', len(_tmpDf), 'rows')\n",
    "        dataFrame = pd.concat([dataFrame, _tmpDf])\n",
    "        del _tmpDf\n",
    "dataFrame.loc[:,  'price'] = dataFrame.price.apply(lambda x: x[1:-3].replace(',', '')).astype(int)\n",
    "print('total rows:', len(dataFrame))\n",
    "dataFrame.head()"
   ]
  },
  {
   "cell_type": "code",
   "execution_count": 214,
   "metadata": {},
   "outputs": [],
   "source": [
    "state = 'NY'\n",
    "targets_df = dataFrame[dataFrame.state == state]\n",
    "targets = targets_df.index"
   ]
  },
  {
   "cell_type": "code",
   "execution_count": 215,
   "metadata": {},
   "outputs": [
    {
     "data": {
      "text/plain": [
       "Int64Index([20183694,     2060,     2595,     3831,     5099,     5114,\n",
       "                5121,     5178,     5203,     5238,\n",
       "            ...\n",
       "            42890182, 42890276, 42890448, 42890474, 42890528, 42890680,\n",
       "            42890730, 42891018, 42891637, 42892717],\n",
       "           dtype='int64', name='id', length=50769)"
      ]
     },
     "execution_count": 215,
     "metadata": {},
     "output_type": "execute_result"
    }
   ],
   "source": [
    "targets"
   ]
  },
  {
   "cell_type": "code",
   "execution_count": 216,
   "metadata": {
    "scrolled": false
   },
   "outputs": [],
   "source": [
    "def get_price(id):\n",
    "    url = 'https://www.airbnb.com.ar/api/v2/pdp_listing_booking_details?_format=for_web_dateless&listing_id='+str(id)+'&currency=USD&guests=1&key=d306zoyjsyarp7ifhu67rjxn52tv0t20&number_of_adults=1'\n",
    "    response = requests.get(\n",
    "        url,\n",
    "        headers=headersChrome\n",
    "    )\n",
    "    print()\n",
    "    data = json.loads(response.text)\n",
    "    if(data['pdp_listing_booking_details'][0]['p3_display_rate']['currency'] == 'USD'):\n",
    "        return int(data['pdp_listing_booking_details'][0]['p3_display_rate']['amount'])\n",
    "    else:\n",
    "        return None"
   ]
  },
  {
   "cell_type": "code",
   "execution_count": 220,
   "metadata": {},
   "outputs": [
    {
     "data": {
      "text/plain": [
       "349"
      ]
     },
     "execution_count": 220,
     "metadata": {},
     "output_type": "execute_result"
    }
   ],
   "source": [
    "\n",
    "get_price(20183694)"
   ]
  },
  {
   "cell_type": "code",
   "execution_count": 232,
   "metadata": {
    "scrolled": true
   },
   "outputs": [
    {
     "name": "stdout",
     "output_type": "stream",
     "text": [
      "DONE 20183694\n",
      "DONE 2060\n",
      "DONE 2595\n"
     ]
    }
   ],
   "source": [
    "import pickle\n",
    "real_prices = {}\n",
    "import time\n",
    "\n",
    "errors = 0\n",
    "current = 0\n",
    "\n",
    "for id in targets:\n",
    "    current += 1\n",
    "    if(errors == 25):\n",
    "        time.sleep(60 * 60)\n",
    "        errors = 0\n",
    "    try:\n",
    "        price = get_price(id)\n",
    "        real_prices[id] = {\n",
    "            'price': price,\n",
    "            'time': time.time()\n",
    "        }\n",
    "        if current % 20 == 0:\n",
    "            pickle.dump( real_prices, open( \"../datasets/\"+state+\"_realPrices.pkl\", \"wb\" ) )\n",
    "        print('DONE', id)\n",
    "        errors = 0\n",
    "    except:\n",
    "        errors += 1\n",
    "        real_prices[id] = {\n",
    "            'price': None,\n",
    "            'time': time.time()\n",
    "        }\n",
    "        print('ERROR', id)\n",
    "        \n",
    "pickle.dump( real_prices, open( \"../datasets/\"+state+\"_realPrices.pkl\", \"wb\" ) )"
   ]
  },
  {
   "cell_type": "code",
   "execution_count": 233,
   "metadata": {},
   "outputs": [
    {
     "data": {
      "text/plain": [
       "{20183694: {'price': 349, 'time': 1587957952.5370185},\n",
       " 2060: {'price': 100, 'time': 1587957953.0513477},\n",
       " 2595: {'price': 175, 'time': 1587957953.516776}}"
      ]
     },
     "execution_count": 233,
     "metadata": {},
     "output_type": "execute_result"
    }
   ],
   "source": [
    "pickle.load( open( \"../datasets/\"+state+\"_realPrices.pkl\", \"rb\" ) )"
   ]
  },
  {
   "cell_type": "code",
   "execution_count": 224,
   "metadata": {},
   "outputs": [
    {
     "data": {
      "text/plain": [
       "{20183694: 349, 2060: 100, 2595: 175}"
      ]
     },
     "execution_count": 224,
     "metadata": {},
     "output_type": "execute_result"
    }
   ],
   "source": [
    "real_prices"
   ]
  },
  {
   "cell_type": "code",
   "execution_count": 50,
   "metadata": {},
   "outputs": [],
   "source": [
    "dfFinal.loc[list(responses.keys()), 'real_price'] = list(responses.values())"
   ]
  },
  {
   "cell_type": "code",
   "execution_count": 53,
   "metadata": {},
   "outputs": [],
   "source": [
    "# dfFinal[['real_price', 'price']][pd.notna(dfFinal.real_price)]"
   ]
  },
  {
   "cell_type": "code",
   "execution_count": 55,
   "metadata": {},
   "outputs": [],
   "source": [
    "dfFinal.to_pickle('../datasets/final_dataset.pkl')"
   ]
  }
 ],
 "metadata": {
  "kernelspec": {
   "display_name": "Python 3",
   "language": "python",
   "name": "python3"
  },
  "language_info": {
   "codemirror_mode": {
    "name": "ipython",
    "version": 3
   },
   "file_extension": ".py",
   "mimetype": "text/x-python",
   "name": "python",
   "nbconvert_exporter": "python",
   "pygments_lexer": "ipython3",
   "version": "3.7.1"
  }
 },
 "nbformat": 4,
 "nbformat_minor": 2
}
