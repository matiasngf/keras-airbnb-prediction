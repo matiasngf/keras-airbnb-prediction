{
 "cells": [
  {
   "cell_type": "code",
   "execution_count": null,
   "metadata": {},
   "outputs": [],
   "source": [
    "import pandas as pd\n",
    "from os import walk"
   ]
  },
  {
   "cell_type": "code",
   "execution_count": null,
   "metadata": {
    "scrolled": true
   },
   "outputs": [],
   "source": [
    "#Carga de los datasets\n",
    "datasets_names = []\n",
    "path_df = '../datasets/original_files/'\n",
    "for (dirpath, dirnames, filenames) in walk(path_df):\n",
    "    datasets_names.extend(filenames)\n",
    "    break\n",
    "datasets_names"
   ]
  },
  {
   "cell_type": "code",
   "execution_count": null,
   "metadata": {
    "scrolled": false
   },
   "outputs": [],
   "source": [
    "#Carga del dataframe\n",
    "dataFrame = False\n",
    "first = True\n",
    "for name in datasets_names:\n",
    "    if(first):\n",
    "        first = False\n",
    "        dataFrame = pd.read_csv(path_df+name, compression='gzip')\n",
    "        dataFrame.set_index('id', drop=False, inplace=True)\n",
    "        print('adding', len(dataFrame), 'rows')\n",
    "        dataFrame ['file']=name \n",
    "    else:\n",
    "        _tmpDf = pd.read_csv(path_df+name, compression='gzip')\n",
    "        _tmpDf.set_index('id', drop=False, inplace=True)\n",
    "        _tmpDf['file']=name\n",
    "        print('adding', len(_tmpDf), 'rows')\n",
    "        dataFrame = pd.concat([dataFrame, _tmpDf])\n",
    "        del _tmpDf\n",
    "print('total rows:', len(dataFrame))\n",
    "#for column in dataFrame.columns:\n",
    "#   print(column)"
   ]
  },
  {
   "cell_type": "code",
   "execution_count": null,
   "metadata": {},
   "outputs": [],
   "source": [
    "#Transformar las variables String en Float\n",
    "\n",
    "dataFrame[\"price\"]=dataFrame[\"price\"].str.replace('$', '').str.replace(',', '').astype(float)\n",
    "dataFrame[\"host_acceptance_rate\"]=dataFrame[\"host_acceptance_rate\"].str.replace('%', '').str.replace(',', '').astype(float)\n",
    "dataFrame[\"host_response_rate\"]=dataFrame[\"host_response_rate\"].str.replace('%', '').str.replace(',', '').astype(float)\n",
    "dataFrame[\"host_since\"]=dataFrame[\"host_since\"].str.replace('-', '').str.replace(',', '').astype(float)\n",
    "dataFrame[\"first_review\"]=dataFrame[\"first_review\"].str.replace('-', '').str.replace(',', '').astype(float)\n",
    "dataFrame[\"last_review\"]=dataFrame[\"last_review\"].str.replace('-', '').str.replace(',', '').astype(float)\n"
   ]
  },
  {
   "cell_type": "code",
   "execution_count": null,
   "metadata": {},
   "outputs": [],
   "source": [
    "#Variables numericas y alfanumricas a utilizar\n",
    "df=dataFrame[[\n",
    "'host_since', 'host_response_rate', 'host_acceptance_rate','host_is_superhost', 'host_listings_count', 'host_total_listings_count', 'host_identity_verified', 'neighbourhood', 'city', 'state', 'country', 'latitude', 'longitude', 'property_type', 'room_type', 'accommodates', 'bathrooms', 'bedrooms', 'beds', 'price','guests_included', 'minimum_nights', 'number_of_reviews', 'first_review', 'last_review', 'review_scores_rating', 'review_scores_accuracy','review_scores_cleanliness', 'review_scores_checkin', 'review_scores_communication', 'review_scores_location', 'review_scores_value', 'instant_bookable', 'cancellation_policy', 'require_guest_profile_picture', 'require_guest_phone_verification', 'reviews_per_month','file']]\n",
    "\n",
    "#Variables alfanumricas a mayusculas\n",
    "for column in (df.columns[df.dtypes == 'O']):\n",
    "    df[column]=df[column].str.strip().str.upper()"
   ]
  },
  {
   "cell_type": "code",
   "execution_count": null,
   "metadata": {},
   "outputs": [],
   "source": [
    "# Limpia valores numericos\n",
    "from scipy import stats\n",
    "import numpy as np\n",
    "\n",
    "num_cols = (df.columns[df.dtypes != 'O']) # Selecciona columnas numericas\n",
    "df[num_cols]=df[num_cols].fillna(df[num_cols].median()) #Completa Missing con la Mediana\n",
    "df=df[(np.abs(stats.zscore(df[num_cols])) < 3).all(axis=1)] #Filtra Outliers\n"
   ]
  },
  {
   "cell_type": "code",
   "execution_count": null,
   "metadata": {
    "tags": [
     "outputPrepend",
     "outputPrepend",
     "outputPrepend",
     "outputPrepend",
     "outputPrepend",
     "outputPrepend",
     "outputPrepend"
    ]
   },
   "outputs": [],
   "source": [
    "# Limpia valores String\n",
    "\n",
    "obj_cols=df.columns[df.dtypes == 'O']\n",
    "for column in (obj_cols):\n",
    "    proportion = 100\n",
    "    column_freq = df[column].value_counts()\n",
    "    max_val = (column_freq.max())\n",
    "    min_val = (max_val/proportion)\n",
    "    df=(df[df[column].isin(column_freq[column_freq>min_val].index)])\n",
    "\n"
   ]
  },
  {
   "cell_type": "code",
   "execution_count": null,
   "metadata": {},
   "outputs": [],
   "source": [
    "import matplotlib.pyplot as plt\n",
    "obj_cols=df.columns[df.dtypes == 'O']\n",
    "rows=obj_cols.size\n",
    "cities=df['file'].unique().size\n",
    "fig = plt.figure(figsize=(15,heigth*6))\n",
    "\n",
    "sp_index=1\n",
    "\n",
    "\n",
    "\n",
    "obj_cols=df.columns[df.dtypes == 'O']\n",
    "for column in (obj_cols):\n",
    "    for file_name in df['file'].unique(): \n",
    "        a = fig.add_subplot(rows,cities,sp_index, autoscale_on=True )\n",
    "        a.yaxis.set_label_text(column)\n",
    "        a.set_title(file_name)\n",
    "        df[df['file'] == file_name ][column].value_counts().plot(kind='bar', ax=a) #horizontal bar plot\n",
    "        sp_index += 1\n",
    "\n",
    "plt.tight_layout()\n"
   ]
  },
  {
   "cell_type": "code",
   "execution_count": null,
   "metadata": {
    "scrolled": false
   },
   "outputs": [],
   "source": [
    "# Grafica Histogramas por ciudad \n",
    "for column in num_cols:\n",
    "    h = df.hist(column=column, by='file' , bins=10,  figsize=(15,3), layout=(1,3), color='#86bf91',  sharex=True)\n",
    "    for i,x in enumerate(h):\n",
    "        # Set y-axis label\n",
    "        if i == 0:\n",
    "            x.set_ylabel(column, labelpad=50, weight='bold', size=12)\n",
    "        \n",
    "\n"
   ]
  },
  {
   "cell_type": "code",
   "execution_count": null,
   "metadata": {},
   "outputs": [],
   "source": []
  }
 ],
 "metadata": {
  "kernelspec": {
   "display_name": "Python 3",
   "language": "python",
   "name": "python3"
  },
  "language_info": {
   "codemirror_mode": {
    "name": "ipython",
    "version": 3
   },
   "file_extension": ".py",
   "mimetype": "text/x-python",
   "name": "python",
   "nbconvert_exporter": "python",
   "pygments_lexer": "ipython3",
   "version": "3.7.1"
  }
 },
 "nbformat": 4,
 "nbformat_minor": 2
}
