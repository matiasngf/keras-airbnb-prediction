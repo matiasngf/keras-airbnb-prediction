{
 "cells": [
  {
   "cell_type": "code",
   "execution_count": null,
   "metadata": {},
   "outputs": [],
   "source": [
    "import pandas as pd\n",
    "from os import walk"
   ]
  },
  {
   "cell_type": "code",
   "execution_count": null,
   "metadata": {
    "scrolled": true
   },
   "outputs": [],
   "source": [
    "datasets_names = []\n",
    "path_df = '../datasets/original_files/'\n",
    "for (dirpath, dirnames, filenames) in walk(path_df):\n",
    "    datasets_names.extend(filenames)\n",
    "    break\n",
    "datasets_names"
   ]
  },
  {
   "cell_type": "code",
   "execution_count": null,
   "metadata": {
    "scrolled": false
   },
   "outputs": [],
   "source": [
    "dataFrame = False\n",
    "first = True\n",
    "for name in datasets_names:\n",
    "    if(first):\n",
    "        first = False\n",
    "        dataFrame = pd.read_csv(path_df+name, compression='gzip')\n",
    "        dataFrame.set_index('id', drop=False, inplace=True)\n",
    "        print('adding', len(dataFrame), 'rows')\n",
    "        dataFrame ['file']=name\n",
    "    else:\n",
    "        _tmpDf = pd.read_csv(path_df+name, compression='gzip')\n",
    "        _tmpDf.set_index('id', drop=False, inplace=True)\n",
    "        _tmpDf['file']=name\n",
    "        print('adding', len(_tmpDf), 'rows')\n",
    "        dataFrame = pd.concat([dataFrame, _tmpDf])\n",
    "        del _tmpDf\n",
    "print('total rows:', len(dataFrame))\n"
   ]
  },
  {
   "cell_type": "code",
   "execution_count": null,
   "metadata": {},
   "outputs": [],
   "source": [
    "\n",
    "\n",
    "\n",
    "df=dataFrame[[\n",
    " 'name',\n",
    " 'host_since',\n",
    " 'host_response_rate',\n",
    " 'host_acceptance_rate',\n",
    " 'host_is_superhost',\n",
    " 'host_listings_count',\n",
    " 'host_total_listings_count',\n",
    " 'host_has_profile_pic',\n",
    " 'host_identity_verified',\n",
    " 'neighbourhood',\n",
    " 'city',\n",
    " 'state',\n",
    " 'country',\n",
    " 'property_type',\n",
    " 'room_type',\n",
    " 'accommodates',\n",
    " 'bathrooms',\n",
    " 'bedrooms',\n",
    " 'beds',\n",
    " 'bed_type',\n",
    " 'square_feet',\n",
    " 'price',\n",
    " 'guests_included',\n",
    " 'minimum_nights',\n",
    " 'maximum_nights',\n",
    " 'calendar_last_scraped',\n",
    " 'number_of_reviews',\n",
    " 'first_review',\n",
    " 'last_review',\n",
    " 'review_scores_rating',\n",
    " 'review_scores_accuracy',\n",
    " 'review_scores_cleanliness',\n",
    " 'review_scores_checkin',\n",
    " 'review_scores_communication',\n",
    " 'review_scores_location',\n",
    " 'review_scores_value',\n",
    " 'instant_bookable',\n",
    " 'cancellation_policy',\n",
    " 'require_guest_profile_picture',\n",
    " 'require_guest_phone_verification',\n",
    " 'reviews_per_month',\n",
    " 'file']]"
   ]
  },
  {
   "cell_type": "markdown",
   "metadata": {},
   "source": [
    "#cleaning columns\n",
    "for x in df.columns:\n",
    "    print(x)\n",
    "    values = df[x][pd.notna(df[x])].values\n",
    "    if(len(values) > 0):\n",
    "        print(values[0])\n",
    "    else:\n",
    "        print('NOT_VALUES')\n",
    "    print('')"
   ]
  },
  {
   "cell_type": "code",
   "execution_count": null,
   "metadata": {
    "scrolled": false
   },
   "outputs": [],
   "source": [
    "obj_columns=[]\n",
    "\n",
    "for column in df.columns:\n",
    "    if (df.dtypes[column]== 'O'):\n",
    "        a=0\n",
    "        #df[column].value_counts().plot(kind='barh') #horizontal bar plot\n",
    "    else:\n",
    "        h = df.hist(column=column, by='file' , bins=25,  figsize=(15,3), layout=(1,3), color='#86bf91',  sharex=True)\n",
    "        for i,x in enumerate(h):\n",
    "            # Set y-axis label\n",
    "            if i == 0:\n",
    "                x.set_ylabel(column, labelpad=50, weight='bold', size=12)\n",
    "        \n",
    "\n"
   ]
  },
  {
   "cell_type": "code",
   "execution_count": null,
   "metadata": {
    "scrolled": false
   },
   "outputs": [],
   "source": [
    "df = dataFrame\n",
    "\n",
    "df = df[(pd.notna(df.price))]\n",
    "df.loc[:,'price'] = df.price.apply(lambda x: x[1:-3].replace(',', '')).astype(int)\n",
    "df_reviews = df[df.number_of_reviews>3]\n",
    "weekly = df[pd.notna(df.weekly_price)]\n",
    "monthly = df[pd.notna(df.monthly_price)]\n",
    "weekly.loc[:,'weekly_price'] = weekly.weekly_price.apply(lambda x: x[1:-3].replace(',', '')).astype(int) / 7\n",
    "monthly.loc[:,'monthly_price'] = monthly.monthly_price.apply(lambda x: x[1:-3].replace(',', '')).astype(int) / 30\n",
    "\n",
    "# price\n",
    "# weekly_price\n",
    "# monthly_price\n",
    "\n",
    "# len(dataFrame)\n",
    "\n",
    "import matplotlib.pyplot as plt\n",
    "\n",
    "plt.figure(figsize=(12,8))\n",
    "plt.scatter([1 for i in range(len(df))], df.price, alpha=.005)\n",
    "plt.scatter([2 for i in range(len(df_reviews))], df_reviews.price, alpha=.005)\n",
    "# plt.scatter(weekly.price, weekly.weekly_price, alpha=.02)\n",
    "# plt.scatter(monthly.price, monthly.monthly_price, alpha=.02)\n",
    "plt.xlabel('Precio')\n",
    "plt.ylabel('Precio')\n",
    "\n",
    "lims = (0, 10000)\n",
    "# plt.xlim(lims)\n",
    "plt.ylim(lims)\n",
    "plt.show()\n"
   ]
  },
  {
   "cell_type": "code",
   "execution_count": null,
   "metadata": {},
   "outputs": [],
   "source": [
    "for i in df.columns:\n",
    "    print(i)"
   ]
  },
  {
   "cell_type": "code",
   "execution_count": null,
   "metadata": {
    "scrolled": false
   },
   "outputs": [],
   "source": [
    "# df[(df.price>200) & (df.number_of_reviews>5)]\n",
    "len(df[(df.number_of_reviews>3)])\n",
    "# len(df)\n",
    "\n",
    "\n",
    "num_of_r = []\n",
    "\n",
    "maxVal = 15\n",
    "for i in range(maxVal):\n",
    "    num_of_r.append(len(df[(df.number_of_reviews>i)]))\n",
    "    \n",
    "    \n",
    "plt.figure(figsize=(8,8))\n",
    "plt.plot(range(maxVal), num_of_r)\n",
    "\n",
    "# lims = (0, 600)\n",
    "# plt.xlim(lims)\n",
    "# plt.ylim(lims)\n",
    "plt.show()"
   ]
  },
  {
   "cell_type": "code",
   "execution_count": null,
   "metadata": {},
   "outputs": [],
   "source": [
    "len(df[(df.number_of_reviews>5)])"
   ]
  }
 ],
 "metadata": {
  "kernelspec": {
   "display_name": "Python 3",
   "language": "python",
   "name": "python3"
  },
  "language_info": {
   "codemirror_mode": {
    "name": "ipython",
    "version": 3
   },
   "file_extension": ".py",
   "mimetype": "text/x-python",
   "name": "python",
   "nbconvert_exporter": "python",
   "pygments_lexer": "ipython3",
   "version": "3.7.1"
  }
 },
 "nbformat": 4,
 "nbformat_minor": 2
}
