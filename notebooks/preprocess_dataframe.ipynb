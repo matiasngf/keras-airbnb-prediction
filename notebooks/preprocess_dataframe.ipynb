{
 "cells": [
  {
   "cell_type": "code",
   "execution_count": 46,
   "metadata": {},
   "outputs": [],
   "source": [
    "import pandas as pd\n",
    "from os import walk\n",
    "import numpy as np"
   ]
  },
  {
   "cell_type": "code",
   "execution_count": 47,
   "metadata": {},
   "outputs": [
    {
     "data": {
      "text/plain": [
       "['austin-listings.csv.gz',\n",
       " 'boston-listings.csv.gz',\n",
       " 'denver-listings.csv.gz',\n",
       " 'los_angeles-listings.csv.gz',\n",
       " 'new_orleans-listings.csv.gz',\n",
       " 'new_york_city-listings.csv.gz',\n",
       " 'san_diego-listings.csv.gz']"
      ]
     },
     "execution_count": 47,
     "metadata": {},
     "output_type": "execute_result"
    }
   ],
   "source": [
    "datasets_names = []\n",
    "path_df = '../datasets/original_files/'\n",
    "for (dirpath, dirnames, filenames) in walk(path_df):\n",
    "    datasets_names.extend(filenames)\n",
    "    break\n",
    "datasets_names"
   ]
  },
  {
   "cell_type": "code",
   "execution_count": 48,
   "metadata": {
    "scrolled": false
   },
   "outputs": [
    {
     "name": "stdout",
     "output_type": "stream",
     "text": [
      "adding 11668 rows\n",
      "adding 3799 rows\n",
      "adding 4868 rows\n",
      "adding 38481 rows\n",
      "adding 7211 rows\n",
      "adding 50796 rows\n",
      "adding 13927 rows\n",
      "total rows: 130750\n"
     ]
    },
    {
     "data": {
      "text/html": [
       "<div>\n",
       "<style scoped>\n",
       "    .dataframe tbody tr th:only-of-type {\n",
       "        vertical-align: middle;\n",
       "    }\n",
       "\n",
       "    .dataframe tbody tr th {\n",
       "        vertical-align: top;\n",
       "    }\n",
       "\n",
       "    .dataframe thead th {\n",
       "        text-align: right;\n",
       "    }\n",
       "</style>\n",
       "<table border=\"1\" class=\"dataframe\">\n",
       "  <thead>\n",
       "    <tr style=\"text-align: right;\">\n",
       "      <th></th>\n",
       "      <th>id</th>\n",
       "      <th>listing_url</th>\n",
       "      <th>scrape_id</th>\n",
       "      <th>last_scraped</th>\n",
       "      <th>name</th>\n",
       "      <th>summary</th>\n",
       "      <th>space</th>\n",
       "      <th>description</th>\n",
       "      <th>experiences_offered</th>\n",
       "      <th>neighborhood_overview</th>\n",
       "      <th>...</th>\n",
       "      <th>is_business_travel_ready</th>\n",
       "      <th>cancellation_policy</th>\n",
       "      <th>require_guest_profile_picture</th>\n",
       "      <th>require_guest_phone_verification</th>\n",
       "      <th>calculated_host_listings_count</th>\n",
       "      <th>calculated_host_listings_count_entire_homes</th>\n",
       "      <th>calculated_host_listings_count_private_rooms</th>\n",
       "      <th>calculated_host_listings_count_shared_rooms</th>\n",
       "      <th>reviews_per_month</th>\n",
       "      <th>city2</th>\n",
       "    </tr>\n",
       "    <tr>\n",
       "      <th>id</th>\n",
       "      <th></th>\n",
       "      <th></th>\n",
       "      <th></th>\n",
       "      <th></th>\n",
       "      <th></th>\n",
       "      <th></th>\n",
       "      <th></th>\n",
       "      <th></th>\n",
       "      <th></th>\n",
       "      <th></th>\n",
       "      <th></th>\n",
       "      <th></th>\n",
       "      <th></th>\n",
       "      <th></th>\n",
       "      <th></th>\n",
       "      <th></th>\n",
       "      <th></th>\n",
       "      <th></th>\n",
       "      <th></th>\n",
       "      <th></th>\n",
       "      <th></th>\n",
       "    </tr>\n",
       "  </thead>\n",
       "  <tbody>\n",
       "    <tr>\n",
       "      <th>2265</th>\n",
       "      <td>2265</td>\n",
       "      <td>https://www.airbnb.com/rooms/2265</td>\n",
       "      <td>20200317143754</td>\n",
       "      <td>2020-03-17</td>\n",
       "      <td>Zen-East in the Heart of Austin (monthly rental)</td>\n",
       "      <td>Zen East is situated in a vibrant &amp; diverse mu...</td>\n",
       "      <td>This colorful and clean 1923 house was complet...</td>\n",
       "      <td>Zen East is situated in a vibrant &amp; diverse mu...</td>\n",
       "      <td>none</td>\n",
       "      <td>NaN</td>\n",
       "      <td>...</td>\n",
       "      <td>f</td>\n",
       "      <td>strict_14_with_grace_period</td>\n",
       "      <td>f</td>\n",
       "      <td>f</td>\n",
       "      <td>3</td>\n",
       "      <td>2</td>\n",
       "      <td>1</td>\n",
       "      <td>0</td>\n",
       "      <td>0.18</td>\n",
       "      <td>austin</td>\n",
       "    </tr>\n",
       "    <tr>\n",
       "      <th>5245</th>\n",
       "      <td>5245</td>\n",
       "      <td>https://www.airbnb.com/rooms/5245</td>\n",
       "      <td>20200317143754</td>\n",
       "      <td>2020-03-17</td>\n",
       "      <td>Eco friendly, Colorful, Clean, Cozy monthly share</td>\n",
       "      <td>Situated in a vibrant &amp; diverse multicultural ...</td>\n",
       "      <td>This green, colorful, clean and cozy house was...</td>\n",
       "      <td>Situated in a vibrant &amp; diverse multicultural ...</td>\n",
       "      <td>none</td>\n",
       "      <td>NaN</td>\n",
       "      <td>...</td>\n",
       "      <td>f</td>\n",
       "      <td>strict_14_with_grace_period</td>\n",
       "      <td>f</td>\n",
       "      <td>f</td>\n",
       "      <td>3</td>\n",
       "      <td>2</td>\n",
       "      <td>1</td>\n",
       "      <td>0</td>\n",
       "      <td>0.07</td>\n",
       "      <td>austin</td>\n",
       "    </tr>\n",
       "    <tr>\n",
       "      <th>5456</th>\n",
       "      <td>5456</td>\n",
       "      <td>https://www.airbnb.com/rooms/5456</td>\n",
       "      <td>20200317143754</td>\n",
       "      <td>2020-03-17</td>\n",
       "      <td>Walk to 6th, Rainey St and Convention Ctr</td>\n",
       "      <td>Great central  location for walking to Convent...</td>\n",
       "      <td>Cute Private Studio apartment located in Willo...</td>\n",
       "      <td>Great central  location for walking to Convent...</td>\n",
       "      <td>none</td>\n",
       "      <td>My neighborhood is ideally located if you want...</td>\n",
       "      <td>...</td>\n",
       "      <td>f</td>\n",
       "      <td>strict_14_with_grace_period</td>\n",
       "      <td>f</td>\n",
       "      <td>t</td>\n",
       "      <td>1</td>\n",
       "      <td>1</td>\n",
       "      <td>0</td>\n",
       "      <td>0</td>\n",
       "      <td>3.94</td>\n",
       "      <td>austin</td>\n",
       "    </tr>\n",
       "    <tr>\n",
       "      <th>5769</th>\n",
       "      <td>5769</td>\n",
       "      <td>https://www.airbnb.com/rooms/5769</td>\n",
       "      <td>20200317143754</td>\n",
       "      <td>2020-03-17</td>\n",
       "      <td>NW Austin Room</td>\n",
       "      <td>NaN</td>\n",
       "      <td>Looking for a comfortable inexpensive room to ...</td>\n",
       "      <td>Looking for a comfortable inexpensive room to ...</td>\n",
       "      <td>none</td>\n",
       "      <td>Quiet neighborhood with lots of trees and good...</td>\n",
       "      <td>...</td>\n",
       "      <td>f</td>\n",
       "      <td>moderate</td>\n",
       "      <td>t</td>\n",
       "      <td>t</td>\n",
       "      <td>1</td>\n",
       "      <td>0</td>\n",
       "      <td>1</td>\n",
       "      <td>0</td>\n",
       "      <td>2.12</td>\n",
       "      <td>austin</td>\n",
       "    </tr>\n",
       "    <tr>\n",
       "      <th>6413</th>\n",
       "      <td>6413</td>\n",
       "      <td>https://www.airbnb.com/rooms/6413</td>\n",
       "      <td>20200317143754</td>\n",
       "      <td>2020-03-17</td>\n",
       "      <td>Gem of a Studio near Downtown</td>\n",
       "      <td>Great studio apartment, perfect for couples or...</td>\n",
       "      <td>!!!!! SXSW info !!!!! Presently open (again!) ...</td>\n",
       "      <td>Great studio apartment, perfect for couples or...</td>\n",
       "      <td>none</td>\n",
       "      <td>Travis Heights is one of the oldest neighborho...</td>\n",
       "      <td>...</td>\n",
       "      <td>f</td>\n",
       "      <td>strict_14_with_grace_period</td>\n",
       "      <td>f</td>\n",
       "      <td>f</td>\n",
       "      <td>1</td>\n",
       "      <td>1</td>\n",
       "      <td>0</td>\n",
       "      <td>0</td>\n",
       "      <td>0.90</td>\n",
       "      <td>austin</td>\n",
       "    </tr>\n",
       "  </tbody>\n",
       "</table>\n",
       "<p>5 rows × 107 columns</p>\n",
       "</div>"
      ],
      "text/plain": [
       "        id                        listing_url       scrape_id last_scraped  \\\n",
       "id                                                                           \n",
       "2265  2265  https://www.airbnb.com/rooms/2265  20200317143754   2020-03-17   \n",
       "5245  5245  https://www.airbnb.com/rooms/5245  20200317143754   2020-03-17   \n",
       "5456  5456  https://www.airbnb.com/rooms/5456  20200317143754   2020-03-17   \n",
       "5769  5769  https://www.airbnb.com/rooms/5769  20200317143754   2020-03-17   \n",
       "6413  6413  https://www.airbnb.com/rooms/6413  20200317143754   2020-03-17   \n",
       "\n",
       "                                                   name  \\\n",
       "id                                                        \n",
       "2265   Zen-East in the Heart of Austin (monthly rental)   \n",
       "5245  Eco friendly, Colorful, Clean, Cozy monthly share   \n",
       "5456          Walk to 6th, Rainey St and Convention Ctr   \n",
       "5769                                     NW Austin Room   \n",
       "6413                      Gem of a Studio near Downtown   \n",
       "\n",
       "                                                summary  \\\n",
       "id                                                        \n",
       "2265  Zen East is situated in a vibrant & diverse mu...   \n",
       "5245  Situated in a vibrant & diverse multicultural ...   \n",
       "5456  Great central  location for walking to Convent...   \n",
       "5769                                                NaN   \n",
       "6413  Great studio apartment, perfect for couples or...   \n",
       "\n",
       "                                                  space  \\\n",
       "id                                                        \n",
       "2265  This colorful and clean 1923 house was complet...   \n",
       "5245  This green, colorful, clean and cozy house was...   \n",
       "5456  Cute Private Studio apartment located in Willo...   \n",
       "5769  Looking for a comfortable inexpensive room to ...   \n",
       "6413  !!!!! SXSW info !!!!! Presently open (again!) ...   \n",
       "\n",
       "                                            description experiences_offered  \\\n",
       "id                                                                            \n",
       "2265  Zen East is situated in a vibrant & diverse mu...                none   \n",
       "5245  Situated in a vibrant & diverse multicultural ...                none   \n",
       "5456  Great central  location for walking to Convent...                none   \n",
       "5769  Looking for a comfortable inexpensive room to ...                none   \n",
       "6413  Great studio apartment, perfect for couples or...                none   \n",
       "\n",
       "                                  neighborhood_overview   ...    \\\n",
       "id                                                        ...     \n",
       "2265                                                NaN   ...     \n",
       "5245                                                NaN   ...     \n",
       "5456  My neighborhood is ideally located if you want...   ...     \n",
       "5769  Quiet neighborhood with lots of trees and good...   ...     \n",
       "6413  Travis Heights is one of the oldest neighborho...   ...     \n",
       "\n",
       "     is_business_travel_ready          cancellation_policy  \\\n",
       "id                                                           \n",
       "2265                        f  strict_14_with_grace_period   \n",
       "5245                        f  strict_14_with_grace_period   \n",
       "5456                        f  strict_14_with_grace_period   \n",
       "5769                        f                     moderate   \n",
       "6413                        f  strict_14_with_grace_period   \n",
       "\n",
       "     require_guest_profile_picture require_guest_phone_verification  \\\n",
       "id                                                                    \n",
       "2265                             f                                f   \n",
       "5245                             f                                f   \n",
       "5456                             f                                t   \n",
       "5769                             t                                t   \n",
       "6413                             f                                f   \n",
       "\n",
       "     calculated_host_listings_count  \\\n",
       "id                                    \n",
       "2265                              3   \n",
       "5245                              3   \n",
       "5456                              1   \n",
       "5769                              1   \n",
       "6413                              1   \n",
       "\n",
       "      calculated_host_listings_count_entire_homes  \\\n",
       "id                                                  \n",
       "2265                                            2   \n",
       "5245                                            2   \n",
       "5456                                            1   \n",
       "5769                                            0   \n",
       "6413                                            1   \n",
       "\n",
       "      calculated_host_listings_count_private_rooms  \\\n",
       "id                                                   \n",
       "2265                                             1   \n",
       "5245                                             1   \n",
       "5456                                             0   \n",
       "5769                                             1   \n",
       "6413                                             0   \n",
       "\n",
       "     calculated_host_listings_count_shared_rooms  reviews_per_month   city2  \n",
       "id                                                                           \n",
       "2265                                           0               0.18  austin  \n",
       "5245                                           0               0.07  austin  \n",
       "5456                                           0               3.94  austin  \n",
       "5769                                           0               2.12  austin  \n",
       "6413                                           0               0.90  austin  \n",
       "\n",
       "[5 rows x 107 columns]"
      ]
     },
     "execution_count": 48,
     "metadata": {},
     "output_type": "execute_result"
    }
   ],
   "source": [
    "dataFrame = False\n",
    "first = True\n",
    "for name in datasets_names:\n",
    "    if(first):\n",
    "        first = False\n",
    "        dataFrame = pd.read_csv(path_df+name, compression='gzip')\n",
    "        dataFrame.set_index('id', drop=False, inplace=True)\n",
    "        dataFrame['city2'] = name[:-16]\n",
    "        print('adding', len(dataFrame), 'rows')\n",
    "    else:\n",
    "        _tmpDf = pd.read_csv(path_df+name, compression='gzip')\n",
    "        _tmpDf.set_index('id', drop=False, inplace=True)\n",
    "        _tmpDf['city2'] = name[:-16]\n",
    "        print('adding', len(_tmpDf), 'rows')\n",
    "        dataFrame = pd.concat([dataFrame, _tmpDf])\n",
    "        del _tmpDf\n",
    "print('total rows:', len(dataFrame))\n",
    "dataFrame.head()"
   ]
  },
  {
   "cell_type": "markdown",
   "metadata": {},
   "source": [
    "## Limpieza"
   ]
  },
  {
   "cell_type": "code",
   "execution_count": 49,
   "metadata": {},
   "outputs": [],
   "source": [
    "# Filtra precio\n",
    "from scipy import stats\n",
    "dataFrame.loc[:,  'price'] = dataFrame.price.apply(lambda x: x[1:-3].replace(',', '')).astype(int)"
   ]
  },
  {
   "cell_type": "code",
   "execution_count": 50,
   "metadata": {},
   "outputs": [
    {
     "name": "stdout",
     "output_type": "stream",
     "text": [
      "130750\n",
      "71618\n"
     ]
    }
   ],
   "source": [
    "num_cols = [\n",
    "    \"reviews_per_month\", \"review_scores_communication\",\"review_scores_location\",\"review_scores_value\",\n",
    "    \"number_of_reviews_ltm\",\"review_scores_cleanliness\",\n",
    "    \"review_scores_checkin\",\"availability_30\",\"availability_60\",\"availability_90\",\"availability_365\",\n",
    "    \"review_scores_accuracy\",\"minimum_nights\",\"maximum_nights\",\n",
    "    \"calculated_host_listings_count\",\"calculated_host_listings_count_entire_homes\",\n",
    "    \"calculated_host_listings_count_private_rooms\",\"calculated_host_listings_count_shared_rooms\",\n",
    "    \"host_listings_count\",\"number_of_reviews\",\n",
    "    \"accommodates\",\"bathrooms\",\"bedrooms\",\"beds\",\"guests_included\",\n",
    "]\n",
    "\n",
    "print(len(\n",
    "    dataFrame\n",
    "))\n",
    "\n",
    "#Filtra Outliers\n",
    "dataFrame = dataFrame[(np.abs(stats.zscore(dataFrame[num_cols].fillna(dataFrame[num_cols].median()))) < 3).all(axis=1)] \n",
    "\n",
    "#Filtra Nans\n",
    "dataFrame = dataFrame[~dataFrame[['review_scores_communication', 'review_scores_location', 'review_scores_value', 'review_scores_accuracy']]\\\n",
    ".isna().all(axis=1)]\n",
    "\n",
    "dataFrame = dataFrame[dataFrame.number_of_reviews > 2]\n",
    "dataFrame = dataFrame[dataFrame.price > 0]\n",
    "\n",
    "dataFrame = dataFrame[(np.abs(stats.zscore(dataFrame[['price']])) < 3)]\n",
    "\n",
    "\n",
    "\n",
    "print(len(\n",
    "    dataFrame\n",
    "))"
   ]
  },
  {
   "cell_type": "code",
   "execution_count": 51,
   "metadata": {},
   "outputs": [
    {
     "data": {
      "image/png": "[encoded data removed]",
      "text/plain": [
       "<Figure size 864x576 with 1 Axes>"
      ]
     },
     "metadata": {
      "needs_background": "light"
     },
     "output_type": "display_data"
    }
   ],
   "source": [
    "import matplotlib.pyplot as plt\n",
    "plt.figure(figsize=(12,8))\n",
    "plt.hist(dataFrame.price, range=(0, 2000), bins=30)\n",
    "plt.show()"
   ]
  },
  {
   "cell_type": "code",
   "execution_count": 52,
   "metadata": {},
   "outputs": [],
   "source": [
    "# dataFrame = dataFrame[dataFrame.price <= 1000]"
   ]
  },
  {
   "cell_type": "code",
   "execution_count": 53,
   "metadata": {},
   "outputs": [
    {
     "data": {
      "text/plain": [
       "71618"
      ]
     },
     "execution_count": 53,
     "metadata": {},
     "output_type": "execute_result"
    }
   ],
   "source": [
    "len(dataFrame)"
   ]
  },
  {
   "cell_type": "code",
   "execution_count": 54,
   "metadata": {},
   "outputs": [
    {
     "data": {
      "text/plain": [
       "FeatureUnion(n_jobs=None,\n",
       "       transformer_list=[('numerical_pipeline', Pipeline(memory=None,\n",
       "     steps=[('num_selector', FeatureSelector(feature_names=None)), ('num_imputer', NumericalImputer(default_strategy=None)), ('num_transformer', NumericalTransformer(log_transform=None)), ('std_scaler', StandardScaler(copy=True, with_mea...l=None, geoCols=None)), ('std_scaler', StandardScaler(copy=True, with_mean=True, with_std=True))]))],\n",
       "       transformer_weights=None)"
      ]
     },
     "execution_count": 54,
     "metadata": {},
     "output_type": "execute_result"
    }
   ],
   "source": [
    "import importlib\n",
    "import load_transform_pipeline #import the module here, so that it can be reloaded.\n",
    "importlib.reload(load_transform_pipeline)\n",
    "\n",
    "transform_pipeline = load_transform_pipeline.load_model('../models/transformDataPipeline__not_fitted.pkl')\n",
    "\n",
    "transform_pipeline"
   ]
  },
  {
   "cell_type": "code",
   "execution_count": 55,
   "metadata": {},
   "outputs": [],
   "source": [
    "from sklearn.model_selection import train_test_split\n",
    "\n",
    "y = dataFrame.price\n",
    "X = dataFrame\n",
    "X_train_df, X_test_df, y_train, y_test = train_test_split(X, y, test_size=0.25, random_state=42)\n",
    "X_train_df, X_val_df, y_train, y_val = train_test_split(X_train_df, y_train, test_size=0.25, random_state=42)"
   ]
  },
  {
   "cell_type": "code",
   "execution_count": null,
   "metadata": {},
   "outputs": [
    {
     "name": "stderr",
     "output_type": "stream",
     "text": [
      "C:\\ProgramData\\Anaconda3\\lib\\site-packages\\pandas\\core\\generic.py:4405: SettingWithCopyWarning: \n",
      "A value is trying to be set on a copy of a slice from a DataFrame.\n",
      "Try using .loc[row_indexer,col_indexer] = value instead\n",
      "\n",
      "See the caveats in the documentation: http://pandas.pydata.org/pandas-docs/stable/indexing.html#indexing-view-versus-copy\n",
      "  self[name] = value\n",
      "D:\\Usuarios\\Matias\\Documentos\\Matias\\Trabajos\\Jupyter\\DH ia\\keras-airbnb-prediction\\notebooks\\load_transform_pipeline.py:162: SettingWithCopyWarning: \n",
      "A value is trying to be set on a copy of a slice from a DataFrame.\n",
      "Try using .loc[row_indexer,col_indexer] = value instead\n",
      "\n",
      "See the caveats in the documentation: http://pandas.pydata.org/pandas-docs/stable/indexing.html#indexing-view-versus-copy\n",
      "  X[col] = X[col].astype(float)\n",
      "D:\\Usuarios\\Matias\\Documentos\\Matias\\Trabajos\\Jupyter\\DH ia\\keras-airbnb-prediction\\notebooks\\load_transform_pipeline.py:164: SettingWithCopyWarning: \n",
      "A value is trying to be set on a copy of a slice from a DataFrame.\n",
      "Try using .loc[row_indexer,col_indexer] = value instead\n",
      "\n",
      "See the caveats in the documentation: http://pandas.pydata.org/pandas-docs/stable/indexing.html#indexing-view-versus-copy\n",
      "  X[col] = X[col].replace( [ np.inf, -np.inf ], np.nan)\n",
      "C:\\ProgramData\\Anaconda3\\lib\\site-packages\\pandas\\core\\generic.py:5434: SettingWithCopyWarning: \n",
      "A value is trying to be set on a copy of a slice from a DataFrame\n",
      "\n",
      "See the caveats in the documentation: http://pandas.pydata.org/pandas-docs/stable/indexing.html#indexing-view-versus-copy\n",
      "  self._update_inplace(new_data)\n"
     ]
    }
   ],
   "source": [
    "transform_pipeline.fit(X_train_df)"
   ]
  },
  {
   "cell_type": "code",
   "execution_count": null,
   "metadata": {},
   "outputs": [],
   "source": [
    "# transform_pipeline.transform(X_train_df)"
   ]
  },
  {
   "cell_type": "code",
   "execution_count": null,
   "metadata": {
    "scrolled": true
   },
   "outputs": [],
   "source": [
    "X_train = transform_pipeline.transform(X_train_df)\n",
    "X_test = transform_pipeline.transform(X_test_df)\n",
    "X_val = transform_pipeline.transform(X_val_df)"
   ]
  },
  {
   "cell_type": "code",
   "execution_count": null,
   "metadata": {},
   "outputs": [],
   "source": [
    "print(X_train.shape)\n",
    "print(X_test.shape)\n",
    "print(X_val.shape)"
   ]
  },
  {
   "cell_type": "code",
   "execution_count": null,
   "metadata": {},
   "outputs": [],
   "source": [
    "data = {\n",
    "    'X_train_df': X_train_df,\n",
    "    'X_test_df': X_test_df,\n",
    "    'X_val_df': X_val_df,\n",
    "    'X_train': X_train,\n",
    "    'X_test': X_test,\n",
    "    'X_val': X_val,\n",
    "    'y_train': y_train,\n",
    "    'y_test': y_test,\n",
    "    'y_val': y_val,\n",
    "    'transform_pipeline': transform_pipeline\n",
    "}\n",
    "import pickle\n",
    "with open(\"../models/data.pkl\", 'wb') as pfile:\n",
    "    pickle.dump(data, pfile, protocol=pickle.HIGHEST_PROTOCOL)"
   ]
  }
 ],
 "metadata": {
  "kernelspec": {
   "display_name": "Python 3",
   "language": "python",
   "name": "python3"
  },
  "language_info": {
   "codemirror_mode": {
    "name": "ipython",
    "version": 3
   },
   "file_extension": ".py",
   "mimetype": "text/x-python",
   "name": "python",
   "nbconvert_exporter": "python",
   "pygments_lexer": "ipython3",
   "version": "3.7.1"
  }
 },
 "nbformat": 4,
 "nbformat_minor": 2
}
