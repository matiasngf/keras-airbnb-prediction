{
 "cells": [
  {
   "cell_type": "code",
   "execution_count": 1,
   "metadata": {},
   "outputs": [],
   "source": [
    "import urllib.request\n",
    "import requests\n",
    "import sys\n",
    "import os"
   ]
  },
  {
   "cell_type": "code",
   "execution_count": 2,
   "metadata": {},
   "outputs": [],
   "source": [
    "if(not os.path.isdir('../datasets')):\n",
    "    os.mkdir('../datasets')\n",
    "if(not os.path.isdir('../datasets/original_files')):\n",
    "    os.mkdir('../datasets/original_files')"
   ]
  },
  {
   "cell_type": "code",
   "execution_count": 3,
   "metadata": {},
   "outputs": [],
   "source": [
    "def download_file(city, file_name, link):\n",
    "    with open(file_name, \"wb\") as f:\n",
    "            print('')\n",
    "            print (\"Downloading %s\" % city)\n",
    "            response = requests.get(link, stream=True)\n",
    "            total_length = response.headers.get('content-length')\n",
    "\n",
    "            if total_length is None: # no content length header\n",
    "                f.write(response.content)\n",
    "            else:\n",
    "                dl = 0\n",
    "                total_length = int(total_length)\n",
    "                for data in response.iter_content(chunk_size=4096):\n",
    "                    dl += len(data)\n",
    "                    f.write(data)\n",
    "                    done = int(50 * dl / total_length)\n",
    "                    sys.stdout.write(\"\\r[%s%s]\" % ('=' * done, ' ' * (50-done)) )    \n",
    "                    sys.stdout.flush()"
   ]
  },
  {
   "cell_type": "code",
   "execution_count": 4,
   "metadata": {},
   "outputs": [
    {
     "name": "stdout",
     "output_type": "stream",
     "text": [
      "new_york_city ya existe\n",
      "boston ya existe\n",
      "los_angeles ya existe\n",
      "\n",
      "Downloading austin\n",
      "[==================================================]\n",
      "Downloading denver\n",
      "[==================================================]\n",
      "Downloading new_orleans\n",
      "[==================================================]\n",
      "Downloading san_diego\n",
      "[==================================================]"
     ]
    }
   ],
   "source": [
    "files_url = [\n",
    "    ['new_york_city','http://data.insideairbnb.com/united-states/ny/new-york-city/2020-03-13/data/listings.csv.gz'],\n",
    "    ['boston', 'http://data.insideairbnb.com/united-states/ma/boston/2020-03-16/data/listings.csv.gz'],\n",
    "    ['los_angeles', 'http://data.insideairbnb.com/united-states/ca/los-angeles/2020-03-13/data/listings.csv.gz'],\n",
    "    ['austin', 'http://data.insideairbnb.com/united-states/tx/austin/2020-03-17/data/listings.csv.gz'],\n",
    "    ['denver', 'http://data.insideairbnb.com/united-states/co/denver/2020-03-23/data/listings.csv.gz'],\n",
    "    ['new_orleans', 'http://data.insideairbnb.com/united-states/la/new-orleans/2020-04-09/data/listings.csv.gz'],\n",
    "    ['san_diego', 'http://data.insideairbnb.com/united-states/ca/san-diego/2020-03-17/data/listings.csv.gz']\n",
    "]\n",
    "\n",
    "for city, url in files_url:\n",
    "    file_name = '../datasets/original_files/'+city+'-listings.csv.gz'\n",
    "    if (not os.path.isfile(file_name)):\n",
    "        download_file(city, file_name, url)\n",
    "    else:\n",
    "        print(city, 'ya existe')"
   ]
  }
 ],
 "metadata": {
  "kernelspec": {
   "display_name": "Python 3",
   "language": "python",
   "name": "python3"
  },
  "language_info": {
   "codemirror_mode": {
    "name": "ipython",
    "version": 3
   },
   "file_extension": ".py",
   "mimetype": "text/x-python",
   "name": "python",
   "nbconvert_exporter": "python",
   "pygments_lexer": "ipython3",
   "version": "3.7.1"
  }
 },
 "nbformat": 4,
 "nbformat_minor": 2
}
